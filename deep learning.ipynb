{
 "cells": [
  {
   "cell_type": "markdown",
   "metadata": {},
   "source": [
    "# Deep Learning Tutorial\n",
    "\n",
    "This tutorial is a stripped down version of the one provided at http://deeplearning.net/tutorial. It uses only Python, Numpy and Theano. We have omitted many important and technical details about learning with neural networks (eg. regularizers, early-stopping), so please have a look at the full version if you decide to continue with these things.\n",
    "\n",
    "For more details about Theano, see http://deeplearning.net/software/theano/index.html.\n",
    "\n",
    "## Part 1: Setting up the data\n",
    "\n",
    "To learn, we need data. This notebook uses two basic datasets: a set of pictures of plates from the Rijksmuseum collection [1], and a set of portraits from the Humanae project [2]. We start by importing these images into two matrices, and showing how to display them.\n",
    "\n"
   ]
  },
  {
   "cell_type": "code",
   "execution_count": 2,
   "metadata": {
    "collapsed": false
   },
   "outputs": [],
   "source": [
    "# create interactive plots\n",
    "% matplotlib notebook\n",
    "\n",
    "import os, random, time, math\n",
    "import theano as th\n",
    "import theano.tensor as T\n",
    "from PIL import Image, ImageOps\n",
    "import IPython.display as disp\n",
    "from io import BytesIO\n",
    "import numpy as np\n",
    "import matplotlib.pyplot as plt\n",
    "from matplotlib import colors\n",
    "from ipywidgets import widgets  "
   ]
  },
  {
   "cell_type": "code",
   "execution_count": 3,
   "metadata": {
    "collapsed": false
   },
   "outputs": [],
   "source": [
    "# Helper functions\n",
    "\n",
    "# Clean up a plot\n",
    "def clean():\n",
    "    ax = plt.gca()\n",
    "    ax.get_yaxis().set_tick_params(which='both', direction='out')\n",
    "\n",
    "    ax.spines[\"right\"].set_visible(False)\n",
    "    ax.spines[\"top\"].set_visible(False)\n",
    "    ax.spines[\"bottom\"].set_visible(False)\n",
    "    ax.spines[\"left\"].set_visible(False)\n",
    "    \n",
    "    ax.get_xaxis().set_tick_params(which='both', top='off',)\n",
    "    ax.get_yaxis().set_tick_params(which='both', right='off')"
   ]
  },
  {
   "cell_type": "code",
   "execution_count": 4,
   "metadata": {
    "collapsed": false
   },
   "outputs": [
    {
     "data": {
      "text/html": [
       "<style>\n",
       ".widget-area .btn { width: 80px; }   \n",
       "</style>"
      ],
      "text/plain": [
       "<IPython.core.display.HTML object>"
      ]
     },
     "metadata": {},
     "output_type": "display_data"
    }
   ],
   "source": [
    "%%html # ignore this cell\n",
    "<style>\n",
    ".widget-area .btn { width: 80px; }   \n",
    "</style>"
   ]
  },
  {
   "cell_type": "markdown",
   "metadata": {},
   "source": [
    "Most of what we will do will be expressed as matrix operations, using the numpy package. we don't have time to go into the details, but just to get a sense of the syntax, here are some examples."
   ]
  },
  {
   "cell_type": "code",
   "execution_count": 5,
   "metadata": {
    "collapsed": false,
    "scrolled": true
   },
   "outputs": [
    {
     "name": "stdout",
     "output_type": "stream",
     "text": [
      "[[ 0.  1.]\n",
      " [ 2.  3.]]\n",
      "\n",
      "1.0\n",
      "\n",
      "[ 0.  1.]\n",
      "\n",
      "[ 0.  2.]\n",
      "\n",
      "[[ 0.   0.5]\n",
      " [ 1.   1.5]]\n",
      "\n",
      "[[ 0.5   0.75]\n",
      " [ 1.5   2.75]]\n",
      "\n"
     ]
    }
   ],
   "source": [
    "# create a matrix\n",
    "matrix = np.asarray([[0.0, 1.0], [2.0, 3.0]])\n",
    "print(matrix)\n",
    "print()\n",
    "\n",
    "# select a single entry (note, the indices start at 0)\n",
    "print(matrix[0, 1])\n",
    "print()\n",
    "\n",
    "# select a whole row\n",
    "print(matrix[0, :])\n",
    "print()\n",
    "\n",
    "# select a whole column\n",
    "print(matrix[:, 0])\n",
    "print()\n",
    "\n",
    "# multiply everything by 0.5\n",
    "matrix *= 0.5\n",
    "print(matrix)\n",
    "print()\n",
    "\n",
    "# proper matrix multiplication\n",
    "print(matrix.dot(matrix))\n",
    "print()"
   ]
  },
  {
   "cell_type": "markdown",
   "metadata": {},
   "source": [
    "Test some basic image loading and display"
   ]
  },
  {
   "cell_type": "code",
   "execution_count": 6,
   "metadata": {
    "collapsed": false
   },
   "outputs": [
    {
     "data": {
      "image/png": "[encoded data removed]",
      "text/plain": [
       "<IPython.core.display.Image object>"
      ]
     },
     "execution_count": 6,
     "metadata": {},
     "output_type": "execute_result"
    }
   ],
   "source": [
    "image = Image.open('./plates/0001134_AK-NM-13855.png')\n",
    "\n",
    "vector = np.asarray(image) # load into 60 x 60 x 3 tensor\n",
    "old_shape = vector.shape\n",
    "\n",
    "vector = np.ravel(vector) / 255.0 # flatten into vector with [0,1] values (this is the form we'll feed to the network)\n",
    "\n",
    "vector = vector.reshape(old_shape) # recover the three layers of the RGB image\n",
    "\n",
    "image = Image.fromarray((vector * 255.0).astype('uint8'))\n",
    "\n",
    "b = BytesIO() # Save the image to a byte array in memory\n",
    "image.save(b, format='png')\n",
    "disp.Image(b.getvalue()) # Display the image to the notebook\n"
   ]
  },
  {
   "cell_type": "markdown",
   "metadata": {},
   "source": [
    "Let's load the _plates_ and _faces_ examples into memory."
   ]
  },
  {
   "cell_type": "code",
   "execution_count": 7,
   "metadata": {
    "collapsed": false,
    "scrolled": true
   },
   "outputs": [
    {
     "data": {
      "image/png": "[encoded data removed]",
      "text/plain": [
       "<IPython.core.display.Image object>"
      ]
     },
     "execution_count": 7,
     "metadata": {},
     "output_type": "execute_result"
    }
   ],
   "source": [
    "import glob\n",
    "\n",
    "path_plates = './plates'\n",
    "path_faces  = './faces'\n",
    "\n",
    "# We'll load only the first 100 of each\n",
    "num_instances = 2000 \n",
    "num_features = np.ravel(vector).shape[0] # each channel of each pixel is a feature\n",
    "\n",
    "# Load the images into a big matrix\n",
    "plates = np.zeros((num_instances, num_features)) # matrix of zeros\n",
    "faces = np.zeros((num_instances, num_features))\n",
    "\n",
    "#i = 0\n",
    "#for f in glob.glob(path_plates + '/*.png')[0:num_instances]:\n",
    "#    vector = np.ravel(np.asarray(Image.open(f))) / 255.0 # Load the image as a flat vector\n",
    "#    plates[i, :] = vector # set this image as the i'th row of the matrix\n",
    "#    i += 1\n",
    "    \n",
    "i = 0\n",
    "for f in glob.glob(path_faces + '/*.png')[0:num_instances]:\n",
    "    vector = np.ravel(np.asarray(Image.open(f))) / 255.0 # Load the image as a flat vector\n",
    "    faces[i, :] = vector # set this image as the i'th row of the matrix\n",
    "    i += 1\n",
    "    \n",
    "# Combine into one big data matrix and a class vector\n",
    "\n",
    "# data = np.concatenate((plates, faces), axis=0)\n",
    "data = faces\n",
    "# The classes\n",
    "# ones = np.ones((num_instances, 1))\n",
    "# clss = np.concatenate((ones, ones*-1.0), axis=0) # plate = 1.0, face = - 1.0\n",
    "clss = np.ones((num_instances, 1))\n",
    "\n",
    "# This is what the data looks like\n",
    "# print(data)\n",
    "# print(clss)\n",
    "    \n",
    "# Show a random face\n",
    "vector = faces[random.randint(0, num_instances - 1), :]\n",
    "vector = vector.reshape(old_shape) * 255.0 # unflatten\n",
    "vector = vector.astype('uint8')    # convert to integers\n",
    "\n",
    "image = Image.fromarray(vector)    # convert to image\n",
    "\n",
    "# ... convert to notebook output\n",
    "b = BytesIO() \n",
    "image.save(b, format='png')\n",
    "disp.Image(b.getvalue()) "
   ]
  },
  {
   "cell_type": "code",
   "execution_count": 8,
   "metadata": {
    "collapsed": false
   },
   "outputs": [
    {
     "data": {
      "image/png": "[encoded data removed]",
      "text/plain": [
       "<IPython.core.display.Image object>"
      ]
     },
     "execution_count": 8,
     "metadata": {},
     "output_type": "execute_result"
    }
   ],
   "source": [
    "# Show a random plate\n",
    "vector = plates[random.randint(0, num_instances - 1), :]\n",
    "vector = vector.reshape(old_shape) * 255.0 # flatten\n",
    "vector = vector.astype('uint8')    # convert to integers\n",
    "\n",
    "image = Image.fromarray(vector)    # convert to image\n",
    "\n",
    "# ... convert to notebook output\n",
    "b = BytesIO() \n",
    "image.save(b, format='png')\n",
    "disp.Image(b.getvalue()) "
   ]
  },
  {
   "cell_type": "markdown",
   "metadata": {},
   "source": [
    "Since testing your models on the training data is a _mortal sin_ in machine learning, we will also need some unseen data to see how well our models did:"
   ]
  },
  {
   "cell_type": "code",
   "execution_count": 9,
   "metadata": {
    "collapsed": false
   },
   "outputs": [],
   "source": [
    "# Load the images into a big matrix\n",
    "plates_test = np.zeros((num_instances, num_features)) # matrix of zeros\n",
    "faces_test = np.zeros((num_instances, num_features))\n",
    "\n",
    "\n",
    "i = 0\n",
    "for f in glob.glob(path_plates + '/*.png')[num_instances:2*num_instances]:\n",
    "    vector = np.ravel(np.asarray(Image.open(f))) / 255.0 # Load the image as a flat vector\n",
    "    plates_test[i, :] = vector # set this image as the i'th row of the matrix\n",
    "    i += 1\n",
    "    \n",
    "i = 0\n",
    "for f in glob.glob(path_faces + '/*.png')[num_instances:2*num_instances]:\n",
    "    vector = np.ravel(np.asarray(Image.open(f))) / 255.0 # Load the image as a flat vector\n",
    "    faces_test[i, :] = vector # set this image as the i'th row of the matrix\n",
    "    i += 1\n",
    "    \n",
    "test_data = np.concatenate((plates_test, faces_test), axis=0)"
   ]
  },
  {
   "cell_type": "markdown",
   "metadata": {},
   "source": [
    "Now that we have our data, let's look at some Theano code. Theano is a symbolic computing library: it allows you to represent algebraic functions symbolically first, and then compile them into functions. This allows us to switch to processing on the GPU down the line almost seamlessly. Here's a simple example of how it works:"
   ]
  },
  {
   "cell_type": "code",
   "execution_count": 10,
   "metadata": {
    "collapsed": false
   },
   "outputs": [
    {
     "name": "stdout",
     "output_type": "stream",
     "text": [
      "(a * b)\n",
      "<theano.compile.function_module.Function object at 0x7fb005b17278>\n",
      "24.0\n",
      "cf has been called 0.0 times\n",
      "24.0\n",
      "24.0\n",
      "24.0\n",
      "cf has been called 3.0 times \n"
     ]
    }
   ],
   "source": [
    "a = T.scalar('a')\n",
    "b = T.scalar('b')\n",
    "\n",
    "# c is the symbolic representation of 'a * b'\n",
    "c = a * b\n",
    "print(th.pp(c))\n",
    "\n",
    "# cf is the compiled version of c ...\n",
    "cf = th.function([a, b], c)\n",
    "print(cf)\n",
    "\n",
    "# ... which we can call like any other function\n",
    "print(cf(3, 8))\n",
    "\n",
    "# We can also make the function change the state of some external variable,\n",
    "# called a _shared_ variable\n",
    "\n",
    "i = th.shared(value=0.0, name='i')\n",
    "cf = th.function([a, b], c, updates=[(i, i + 1)])\n",
    "\n",
    "print('cf has been called {} times'.format(i.get_value()))\n",
    "\n",
    "print(cf(3, 8))\n",
    "print(cf(3, 8))\n",
    "print(cf(3, 8))\n",
    "\n",
    "print('cf has been called {} times '.format(i.get_value()))\n"
   ]
  },
  {
   "cell_type": "markdown",
   "metadata": {},
   "source": [
    "## Part 2: The perceptron\n",
    "\n",
    "Using Theano, we will reproduce (roughly) the first ever neural model: the _Perceptron_. First, we will try it on a simple 2D dataset, so we can illustrate what is happening.\n",
    "\n",
    "Try playing around with the batch size and the learning rate, to see what effect they have on the convergence of the algorithm."
   ]
  },
  {
   "cell_type": "code",
   "execution_count": 11,
   "metadata": {
    "collapsed": false,
    "scrolled": false
   },
   "outputs": [
    {
     "data": {
      "application/javascript": [
       "/* Put everything inside the global mpl namespace */\n",
       "window.mpl = {};\n",
       "\n",
       "mpl.get_websocket_type = function() {\n",
       "    if (typeof(WebSocket) !== 'undefined') {\n",
       "        return WebSocket;\n",
       "    } else if (typeof(MozWebSocket) !== 'undefined') {\n",
       "        return MozWebSocket;\n",
       "    } else {\n",
       "        alert('Your browser does not have WebSocket support.' +\n",
       "              'Please try Chrome, Safari or Firefox ≥ 6. ' +\n",
       "              'Firefox 4 and 5 are also supported but you ' +\n",
       "              'have to enable WebSockets in about:config.');\n",
       "    };\n",
       "}\n",
       "\n",
       "mpl.figure = function(figure_id, websocket, ondownload, parent_element) {\n",
       "    this.id = figure_id;\n",
       "\n",
       "    this.ws = websocket;\n",
       "\n",
       "    this.supports_binary = (this.ws.binaryType != undefined);\n",
       "\n",
       "    if (!this.supports_binary) {\n",
       "        var warnings = document.getElementById(\"mpl-warnings\");\n",
       "        if (warnings) {\n",
       "            warnings.style.display = 'block';\n",
       "            warnings.textContent = (\n",
       "                \"This browser does not support binary websocket messages. \" +\n",
       "                    \"Performance may be slow.\");\n",
       "        }\n",
       "    }\n",
       "\n",
       "    this.imageObj = new Image();\n",
       "\n",
       "    this.context = undefined;\n",
       "    this.message = undefined;\n",
       "    this.canvas = undefined;\n",
       "    this.rubberband_canvas = undefined;\n",
       "    this.rubberband_context = undefined;\n",
       "    this.format_dropdown = undefined;\n",
       "\n",
       "    this.image_mode = 'full';\n",
       "\n",
       "    this.root = $('<div/>');\n",
       "    this._root_extra_style(this.root)\n",
       "    this.root.attr('style', 'display: inline-block');\n",
       "\n",
       "    $(parent_element).append(this.root);\n",
       "\n",
       "    this._init_header(this);\n",
       "    this._init_canvas(this);\n",
       "    this._init_toolbar(this);\n",
       "\n",
       "    var fig = this;\n",
       "\n",
       "    this.waiting = false;\n",
       "\n",
       "    this.ws.onopen =  function () {\n",
       "            fig.send_message(\"supports_binary\", {value: fig.supports_binary});\n",
       "            fig.send_message(\"send_image_mode\", {});\n",
       "            fig.send_message(\"refresh\", {});\n",
       "        }\n",
       "\n",
       "    this.imageObj.onload = function() {\n",
       "            if (fig.image_mode == 'full') {\n",
       "                // Full images could contain transparency (where diff images\n",
       "                // almost always do), so we need to clear the canvas so that\n",
       "                // there is no ghosting.\n",
       "                fig.context.clearRect(0, 0, fig.canvas.width, fig.canvas.height);\n",
       "            }\n",
       "            fig.context.drawImage(fig.imageObj, 0, 0);\n",
       "        };\n",
       "\n",
       "    this.imageObj.onunload = function() {\n",
       "        this.ws.close();\n",
       "    }\n",
       "\n",
       "    this.ws.onmessage = this._make_on_message_function(this);\n",
       "\n",
       "    this.ondownload = ondownload;\n",
       "}\n",
       "\n",
       "mpl.figure.prototype._init_header = function() {\n",
       "    var titlebar = $(\n",
       "        '<div class=\"ui-dialog-titlebar ui-widget-header ui-corner-all ' +\n",
       "        'ui-helper-clearfix\"/>');\n",
       "    var titletext = $(\n",
       "        '<div class=\"ui-dialog-title\" style=\"width: 100%; ' +\n",
       "        'text-align: center; padding: 3px;\"/>');\n",
       "    titlebar.append(titletext)\n",
       "    this.root.append(titlebar);\n",
       "    this.header = titletext[0];\n",
       "}\n",
       "\n",
       "\n",
       "\n",
       "mpl.figure.prototype._canvas_extra_style = function(canvas_div) {\n",
       "\n",
       "}\n",
       "\n",
       "\n",
       "mpl.figure.prototype._root_extra_style = function(canvas_div) {\n",
       "\n",
       "}\n",
       "\n",
       "mpl.figure.prototype._init_canvas = function() {\n",
       "    var fig = this;\n",
       "\n",
       "    var canvas_div = $('<div/>');\n",
       "\n",
       "    canvas_div.attr('style', 'position: relative; clear: both; outline: 0');\n",
       "\n",
       "    function canvas_keyboard_event(event) {\n",
       "        return fig.key_event(event, event['data']);\n",
       "    }\n",
       "\n",
       "    canvas_div.keydown('key_press', canvas_keyboard_event);\n",
       "    canvas_div.keyup('key_release', canvas_keyboard_event);\n",
       "    this.canvas_div = canvas_div\n",
       "    this._canvas_extra_style(canvas_div)\n",
       "    this.root.append(canvas_div);\n",
       "\n",
       "    var canvas = $('<canvas/>');\n",
       "    canvas.addClass('mpl-canvas');\n",
       "    canvas.attr('style', \"left: 0; top: 0; z-index: 0; outline: 0\")\n",
       "\n",
       "    this.canvas = canvas[0];\n",
       "    this.context = canvas[0].getContext(\"2d\");\n",
       "\n",
       "    var rubberband = $('<canvas/>');\n",
       "    rubberband.attr('style', \"position: absolute; left: 0; top: 0; z-index: 1;\")\n",
       "\n",
       "    var pass_mouse_events = true;\n",
       "\n",
       "    canvas_div.resizable({\n",
       "        start: function(event, ui) {\n",
       "            pass_mouse_events = false;\n",
       "        },\n",
       "        resize: function(event, ui) {\n",
       "            fig.request_resize(ui.size.width, ui.size.height);\n",
       "        },\n",
       "        stop: function(event, ui) {\n",
       "            pass_mouse_events = true;\n",
       "            fig.request_resize(ui.size.width, ui.size.height);\n",
       "        },\n",
       "    });\n",
       "\n",
       "    function mouse_event_fn(event) {\n",
       "        if (pass_mouse_events)\n",
       "            return fig.mouse_event(event, event['data']);\n",
       "    }\n",
       "\n",
       "    rubberband.mousedown('button_press', mouse_event_fn);\n",
       "    rubberband.mouseup('button_release', mouse_event_fn);\n",
       "    // Throttle sequential mouse events to 1 every 20ms.\n",
       "    rubberband.mousemove('motion_notify', mouse_event_fn);\n",
       "\n",
       "    rubberband.mouseenter('figure_enter', mouse_event_fn);\n",
       "    rubberband.mouseleave('figure_leave', mouse_event_fn);\n",
       "\n",
       "    canvas_div.on(\"wheel\", function (event) {\n",
       "        event = event.originalEvent;\n",
       "        event['data'] = 'scroll'\n",
       "        if (event.deltaY < 0) {\n",
       "            event.step = 1;\n",
       "        } else {\n",
       "            event.step = -1;\n",
       "        }\n",
       "        mouse_event_fn(event);\n",
       "    });\n",
       "\n",
       "    canvas_div.append(canvas);\n",
       "    canvas_div.append(rubberband);\n",
       "\n",
       "    this.rubberband = rubberband;\n",
       "    this.rubberband_canvas = rubberband[0];\n",
       "    this.rubberband_context = rubberband[0].getContext(\"2d\");\n",
       "    this.rubberband_context.strokeStyle = \"#000000\";\n",
       "\n",
       "    this._resize_canvas = function(width, height) {\n",
       "        // Keep the size of the canvas, canvas container, and rubber band\n",
       "        // canvas in synch.\n",
       "        canvas_div.css('width', width)\n",
       "        canvas_div.css('height', height)\n",
       "\n",
       "        canvas.attr('width', width);\n",
       "        canvas.attr('height', height);\n",
       "\n",
       "        rubberband.attr('width', width);\n",
       "        rubberband.attr('height', height);\n",
       "    }\n",
       "\n",
       "    // Set the figure to an initial 600x600px, this will subsequently be updated\n",
       "    // upon first draw.\n",
       "    this._resize_canvas(600, 600);\n",
       "\n",
       "    // Disable right mouse context menu.\n",
       "    $(this.rubberband_canvas).bind(\"contextmenu\",function(e){\n",
       "        return false;\n",
       "    });\n",
       "\n",
       "    function set_focus () {\n",
       "        canvas.focus();\n",
       "        canvas_div.focus();\n",
       "    }\n",
       "\n",
       "    window.setTimeout(set_focus, 100);\n",
       "}\n",
       "\n",
       "mpl.figure.prototype._init_toolbar = function() {\n",
       "    var fig = this;\n",
       "\n",
       "    var nav_element = $('<div/>')\n",
       "    nav_element.attr('style', 'width: 100%');\n",
       "    this.root.append(nav_element);\n",
       "\n",
       "    // Define a callback function for later on.\n",
       "    function toolbar_event(event) {\n",
       "        return fig.toolbar_button_onclick(event['data']);\n",
       "    }\n",
       "    function toolbar_mouse_event(event) {\n",
       "        return fig.toolbar_button_onmouseover(event['data']);\n",
       "    }\n",
       "\n",
       "    for(var toolbar_ind in mpl.toolbar_items) {\n",
       "        var name = mpl.toolbar_items[toolbar_ind][0];\n",
       "        var tooltip = mpl.toolbar_items[toolbar_ind][1];\n",
       "        var image = mpl.toolbar_items[toolbar_ind][2];\n",
       "        var method_name = mpl.toolbar_items[toolbar_ind][3];\n",
       "\n",
       "        if (!name) {\n",
       "            // put a spacer in here.\n",
       "            continue;\n",
       "        }\n",
       "        var button = $('<button/>');\n",
       "        button.addClass('ui-button ui-widget ui-state-default ui-corner-all ' +\n",
       "                        'ui-button-icon-only');\n",
       "        button.attr('role', 'button');\n",
       "        button.attr('aria-disabled', 'false');\n",
       "        button.click(method_name, toolbar_event);\n",
       "        button.mouseover(tooltip, toolbar_mouse_event);\n",
       "\n",
       "        var icon_img = $('<span/>');\n",
       "        icon_img.addClass('ui-button-icon-primary ui-icon');\n",
       "        icon_img.addClass(image);\n",
       "        icon_img.addClass('ui-corner-all');\n",
       "\n",
       "        var tooltip_span = $('<span/>');\n",
       "        tooltip_span.addClass('ui-button-text');\n",
       "        tooltip_span.html(tooltip);\n",
       "\n",
       "        button.append(icon_img);\n",
       "        button.append(tooltip_span);\n",
       "\n",
       "        nav_element.append(button);\n",
       "    }\n",
       "\n",
       "    var fmt_picker_span = $('<span/>');\n",
       "\n",
       "    var fmt_picker = $('<select/>');\n",
       "    fmt_picker.addClass('mpl-toolbar-option ui-widget ui-widget-content');\n",
       "    fmt_picker_span.append(fmt_picker);\n",
       "    nav_element.append(fmt_picker_span);\n",
       "    this.format_dropdown = fmt_picker[0];\n",
       "\n",
       "    for (var ind in mpl.extensions) {\n",
       "        var fmt = mpl.extensions[ind];\n",
       "        var option = $(\n",
       "            '<option/>', {selected: fmt === mpl.default_extension}).html(fmt);\n",
       "        fmt_picker.append(option)\n",
       "    }\n",
       "\n",
       "    // Add hover states to the ui-buttons\n",
       "    $( \".ui-button\" ).hover(\n",
       "        function() { $(this).addClass(\"ui-state-hover\");},\n",
       "        function() { $(this).removeClass(\"ui-state-hover\");}\n",
       "    );\n",
       "\n",
       "    var status_bar = $('<span class=\"mpl-message\"/>');\n",
       "    nav_element.append(status_bar);\n",
       "    this.message = status_bar[0];\n",
       "}\n",
       "\n",
       "mpl.figure.prototype.request_resize = function(x_pixels, y_pixels) {\n",
       "    // Request matplotlib to resize the figure. Matplotlib will then trigger a resize in the client,\n",
       "    // which will in turn request a refresh of the image.\n",
       "    this.send_message('resize', {'width': x_pixels, 'height': y_pixels});\n",
       "}\n",
       "\n",
       "mpl.figure.prototype.send_message = function(type, properties) {\n",
       "    properties['type'] = type;\n",
       "    properties['figure_id'] = this.id;\n",
       "    this.ws.send(JSON.stringify(properties));\n",
       "}\n",
       "\n",
       "mpl.figure.prototype.send_draw_message = function() {\n",
       "    if (!this.waiting) {\n",
       "        this.waiting = true;\n",
       "        this.ws.send(JSON.stringify({type: \"draw\", figure_id: this.id}));\n",
       "    }\n",
       "}\n",
       "\n",
       "\n",
       "mpl.figure.prototype.handle_save = function(fig, msg) {\n",
       "    var format_dropdown = fig.format_dropdown;\n",
       "    var format = format_dropdown.options[format_dropdown.selectedIndex].value;\n",
       "    fig.ondownload(fig, format);\n",
       "}\n",
       "\n",
       "\n",
       "mpl.figure.prototype.handle_resize = function(fig, msg) {\n",
       "    var size = msg['size'];\n",
       "    if (size[0] != fig.canvas.width || size[1] != fig.canvas.height) {\n",
       "        fig._resize_canvas(size[0], size[1]);\n",
       "        fig.send_message(\"refresh\", {});\n",
       "    };\n",
       "}\n",
       "\n",
       "mpl.figure.prototype.handle_rubberband = function(fig, msg) {\n",
       "    var x0 = msg['x0'];\n",
       "    var y0 = fig.canvas.height - msg['y0'];\n",
       "    var x1 = msg['x1'];\n",
       "    var y1 = fig.canvas.height - msg['y1'];\n",
       "    x0 = Math.floor(x0) + 0.5;\n",
       "    y0 = Math.floor(y0) + 0.5;\n",
       "    x1 = Math.floor(x1) + 0.5;\n",
       "    y1 = Math.floor(y1) + 0.5;\n",
       "    var min_x = Math.min(x0, x1);\n",
       "    var min_y = Math.min(y0, y1);\n",
       "    var width = Math.abs(x1 - x0);\n",
       "    var height = Math.abs(y1 - y0);\n",
       "\n",
       "    fig.rubberband_context.clearRect(\n",
       "        0, 0, fig.canvas.width, fig.canvas.height);\n",
       "\n",
       "    fig.rubberband_context.strokeRect(min_x, min_y, width, height);\n",
       "}\n",
       "\n",
       "mpl.figure.prototype.handle_figure_label = function(fig, msg) {\n",
       "    // Updates the figure title.\n",
       "    fig.header.textContent = msg['label'];\n",
       "}\n",
       "\n",
       "mpl.figure.prototype.handle_cursor = function(fig, msg) {\n",
       "    var cursor = msg['cursor'];\n",
       "    switch(cursor)\n",
       "    {\n",
       "    case 0:\n",
       "        cursor = 'pointer';\n",
       "        break;\n",
       "    case 1:\n",
       "        cursor = 'default';\n",
       "        break;\n",
       "    case 2:\n",
       "        cursor = 'crosshair';\n",
       "        break;\n",
       "    case 3:\n",
       "        cursor = 'move';\n",
       "        break;\n",
       "    }\n",
       "    fig.rubberband_canvas.style.cursor = cursor;\n",
       "}\n",
       "\n",
       "mpl.figure.prototype.handle_message = function(fig, msg) {\n",
       "    fig.message.textContent = msg['message'];\n",
       "}\n",
       "\n",
       "mpl.figure.prototype.handle_draw = function(fig, msg) {\n",
       "    // Request the server to send over a new figure.\n",
       "    fig.send_draw_message();\n",
       "}\n",
       "\n",
       "mpl.figure.prototype.handle_image_mode = function(fig, msg) {\n",
       "    fig.image_mode = msg['mode'];\n",
       "}\n",
       "\n",
       "mpl.figure.prototype.updated_canvas_event = function() {\n",
       "    // Called whenever the canvas gets updated.\n",
       "    this.send_message(\"ack\", {});\n",
       "}\n",
       "\n",
       "// A function to construct a web socket function for onmessage handling.\n",
       "// Called in the figure constructor.\n",
       "mpl.figure.prototype._make_on_message_function = function(fig) {\n",
       "    return function socket_on_message(evt) {\n",
       "        if (evt.data instanceof Blob) {\n",
       "            /* FIXME: We get \"Resource interpreted as Image but\n",
       "             * transferred with MIME type text/plain:\" errors on\n",
       "             * Chrome.  But how to set the MIME type?  It doesn't seem\n",
       "             * to be part of the websocket stream */\n",
       "            evt.data.type = \"image/png\";\n",
       "\n",
       "            /* Free the memory for the previous frames */\n",
       "            if (fig.imageObj.src) {\n",
       "                (window.URL || window.webkitURL).revokeObjectURL(\n",
       "                    fig.imageObj.src);\n",
       "            }\n",
       "\n",
       "            fig.imageObj.src = (window.URL || window.webkitURL).createObjectURL(\n",
       "                evt.data);\n",
       "            fig.updated_canvas_event();\n",
       "            fig.waiting = false;\n",
       "            return;\n",
       "        }\n",
       "        else if (typeof evt.data === 'string' && evt.data.slice(0, 21) == \"data:image/png;base64\") {\n",
       "            fig.imageObj.src = evt.data;\n",
       "            fig.updated_canvas_event();\n",
       "            fig.waiting = false;\n",
       "            return;\n",
       "        }\n",
       "\n",
       "        var msg = JSON.parse(evt.data);\n",
       "        var msg_type = msg['type'];\n",
       "\n",
       "        // Call the  \"handle_{type}\" callback, which takes\n",
       "        // the figure and JSON message as its only arguments.\n",
       "        try {\n",
       "            var callback = fig[\"handle_\" + msg_type];\n",
       "        } catch (e) {\n",
       "            console.log(\"No handler for the '\" + msg_type + \"' message type: \", msg);\n",
       "            return;\n",
       "        }\n",
       "\n",
       "        if (callback) {\n",
       "            try {\n",
       "                // console.log(\"Handling '\" + msg_type + \"' message: \", msg);\n",
       "                callback(fig, msg);\n",
       "            } catch (e) {\n",
       "                console.log(\"Exception inside the 'handler_\" + msg_type + \"' callback:\", e, e.stack, msg);\n",
       "            }\n",
       "        }\n",
       "    };\n",
       "}\n",
       "\n",
       "// from http://stackoverflow.com/questions/1114465/getting-mouse-location-in-canvas\n",
       "mpl.findpos = function(e) {\n",
       "    //this section is from http://www.quirksmode.org/js/events_properties.html\n",
       "    var targ;\n",
       "    if (!e)\n",
       "        e = window.event;\n",
       "    if (e.target)\n",
       "        targ = e.target;\n",
       "    else if (e.srcElement)\n",
       "        targ = e.srcElement;\n",
       "    if (targ.nodeType == 3) // defeat Safari bug\n",
       "        targ = targ.parentNode;\n",
       "\n",
       "    // jQuery normalizes the pageX and pageY\n",
       "    // pageX,Y are the mouse positions relative to the document\n",
       "    // offset() returns the position of the element relative to the document\n",
       "    var x = e.pageX - $(targ).offset().left;\n",
       "    var y = e.pageY - $(targ).offset().top;\n",
       "\n",
       "    return {\"x\": x, \"y\": y};\n",
       "};\n",
       "\n",
       "/*\n",
       " * return a copy of an object with only non-object keys\n",
       " * we need this to avoid circular references\n",
       " * http://stackoverflow.com/a/24161582/3208463\n",
       " */\n",
       "function simpleKeys (original) {\n",
       "  return Object.keys(original).reduce(function (obj, key) {\n",
       "    if (typeof original[key] !== 'object')\n",
       "        obj[key] = original[key]\n",
       "    return obj;\n",
       "  }, {});\n",
       "}\n",
       "\n",
       "mpl.figure.prototype.mouse_event = function(event, name) {\n",
       "    var canvas_pos = mpl.findpos(event)\n",
       "\n",
       "    if (name === 'button_press')\n",
       "    {\n",
       "        this.canvas.focus();\n",
       "        this.canvas_div.focus();\n",
       "    }\n",
       "\n",
       "    var x = canvas_pos.x;\n",
       "    var y = canvas_pos.y;\n",
       "\n",
       "    this.send_message(name, {x: x, y: y, button: event.button,\n",
       "                             step: event.step,\n",
       "                             guiEvent: simpleKeys(event)});\n",
       "\n",
       "    /* This prevents the web browser from automatically changing to\n",
       "     * the text insertion cursor when the button is pressed.  We want\n",
       "     * to control all of the cursor setting manually through the\n",
       "     * 'cursor' event from matplotlib */\n",
       "    event.preventDefault();\n",
       "    return false;\n",
       "}\n",
       "\n",
       "mpl.figure.prototype._key_event_extra = function(event, name) {\n",
       "    // Handle any extra behaviour associated with a key event\n",
       "}\n",
       "\n",
       "mpl.figure.prototype.key_event = function(event, name) {\n",
       "\n",
       "    // Prevent repeat events\n",
       "    if (name == 'key_press')\n",
       "    {\n",
       "        if (event.which === this._key)\n",
       "            return;\n",
       "        else\n",
       "            this._key = event.which;\n",
       "    }\n",
       "    if (name == 'key_release')\n",
       "        this._key = null;\n",
       "\n",
       "    var value = '';\n",
       "    if (event.ctrlKey && event.which != 17)\n",
       "        value += \"ctrl+\";\n",
       "    if (event.altKey && event.which != 18)\n",
       "        value += \"alt+\";\n",
       "    if (event.shiftKey && event.which != 16)\n",
       "        value += \"shift+\";\n",
       "\n",
       "    value += 'k';\n",
       "    value += event.which.toString();\n",
       "\n",
       "    this._key_event_extra(event, name);\n",
       "\n",
       "    this.send_message(name, {key: value,\n",
       "                             guiEvent: simpleKeys(event)});\n",
       "    return false;\n",
       "}\n",
       "\n",
       "mpl.figure.prototype.toolbar_button_onclick = function(name) {\n",
       "    if (name == 'download') {\n",
       "        this.handle_save(this, null);\n",
       "    } else {\n",
       "        this.send_message(\"toolbar_button\", {name: name});\n",
       "    }\n",
       "};\n",
       "\n",
       "mpl.figure.prototype.toolbar_button_onmouseover = function(tooltip) {\n",
       "    this.message.textContent = tooltip;\n",
       "};\n",
       "mpl.toolbar_items = [[\"Home\", \"Reset original view\", \"fa fa-home icon-home\", \"home\"], [\"Back\", \"Back to  previous view\", \"fa fa-arrow-left icon-arrow-left\", \"back\"], [\"Forward\", \"Forward to next view\", \"fa fa-arrow-right icon-arrow-right\", \"forward\"], [\"\", \"\", \"\", \"\"], [\"Pan\", \"Pan axes with left mouse, zoom with right\", \"fa fa-arrows icon-move\", \"pan\"], [\"Zoom\", \"Zoom to rectangle\", \"fa fa-square-o icon-check-empty\", \"zoom\"], [\"\", \"\", \"\", \"\"], [\"Download\", \"Download plot\", \"fa fa-floppy-o icon-save\", \"download\"]];\n",
       "\n",
       "mpl.extensions = [\"eps\", \"jpeg\", \"pdf\", \"png\", \"ps\", \"raw\", \"svg\", \"tif\"];\n",
       "\n",
       "mpl.default_extension = \"png\";var comm_websocket_adapter = function(comm) {\n",
       "    // Create a \"websocket\"-like object which calls the given IPython comm\n",
       "    // object with the appropriate methods. Currently this is a non binary\n",
       "    // socket, so there is still some room for performance tuning.\n",
       "    var ws = {};\n",
       "\n",
       "    ws.close = function() {\n",
       "        comm.close()\n",
       "    };\n",
       "    ws.send = function(m) {\n",
       "        //console.log('sending', m);\n",
       "        comm.send(m);\n",
       "    };\n",
       "    // Register the callback with on_msg.\n",
       "    comm.on_msg(function(msg) {\n",
       "        //console.log('receiving', msg['content']['data'], msg);\n",
       "        // Pass the mpl event to the overriden (by mpl) onmessage function.\n",
       "        ws.onmessage(msg['content']['data'])\n",
       "    });\n",
       "    return ws;\n",
       "}\n",
       "\n",
       "mpl.mpl_figure_comm = function(comm, msg) {\n",
       "    // This is the function which gets called when the mpl process\n",
       "    // starts-up an IPython Comm through the \"matplotlib\" channel.\n",
       "\n",
       "    var id = msg.content.data.id;\n",
       "    // Get hold of the div created by the display call when the Comm\n",
       "    // socket was opened in Python.\n",
       "    var element = $(\"#\" + id);\n",
       "    var ws_proxy = comm_websocket_adapter(comm)\n",
       "\n",
       "    function ondownload(figure, format) {\n",
       "        window.open(figure.imageObj.src);\n",
       "    }\n",
       "\n",
       "    var fig = new mpl.figure(id, ws_proxy,\n",
       "                           ondownload,\n",
       "                           element.get(0));\n",
       "\n",
       "    // Call onopen now - mpl needs it, as it is assuming we've passed it a real\n",
       "    // web socket which is closed, not our websocket->open comm proxy.\n",
       "    ws_proxy.onopen();\n",
       "\n",
       "    fig.parent_element = element.get(0);\n",
       "    fig.cell_info = mpl.find_output_cell(\"<div id='\" + id + \"'></div>\");\n",
       "    if (!fig.cell_info) {\n",
       "        console.error(\"Failed to find cell for figure\", id, fig);\n",
       "        return;\n",
       "    }\n",
       "\n",
       "    var output_index = fig.cell_info[2]\n",
       "    var cell = fig.cell_info[0];\n",
       "\n",
       "};\n",
       "\n",
       "mpl.figure.prototype.handle_close = function(fig, msg) {\n",
       "    fig.root.unbind('remove')\n",
       "\n",
       "    // Update the output cell to use the data from the current canvas.\n",
       "    fig.push_to_output();\n",
       "    var dataURL = fig.canvas.toDataURL();\n",
       "    // Re-enable the keyboard manager in IPython - without this line, in FF,\n",
       "    // the notebook keyboard shortcuts fail.\n",
       "    IPython.keyboard_manager.enable()\n",
       "    $(fig.parent_element).html('<img src=\"' + dataURL + '\">');\n",
       "    fig.close_ws(fig, msg);\n",
       "}\n",
       "\n",
       "mpl.figure.prototype.close_ws = function(fig, msg){\n",
       "    fig.send_message('closing', msg);\n",
       "    // fig.ws.close()\n",
       "}\n",
       "\n",
       "mpl.figure.prototype.push_to_output = function(remove_interactive) {\n",
       "    // Turn the data on the canvas into data in the output cell.\n",
       "    var dataURL = this.canvas.toDataURL();\n",
       "    this.cell_info[1]['text/html'] = '<img src=\"' + dataURL + '\">';\n",
       "}\n",
       "\n",
       "mpl.figure.prototype.updated_canvas_event = function() {\n",
       "    // Tell IPython that the notebook contents must change.\n",
       "    IPython.notebook.set_dirty(true);\n",
       "    this.send_message(\"ack\", {});\n",
       "    var fig = this;\n",
       "    // Wait a second, then push the new image to the DOM so\n",
       "    // that it is saved nicely (might be nice to debounce this).\n",
       "    setTimeout(function () { fig.push_to_output() }, 1000);\n",
       "}\n",
       "\n",
       "mpl.figure.prototype._init_toolbar = function() {\n",
       "    var fig = this;\n",
       "\n",
       "    var nav_element = $('<div/>')\n",
       "    nav_element.attr('style', 'width: 100%');\n",
       "    this.root.append(nav_element);\n",
       "\n",
       "    // Define a callback function for later on.\n",
       "    function toolbar_event(event) {\n",
       "        return fig.toolbar_button_onclick(event['data']);\n",
       "    }\n",
       "    function toolbar_mouse_event(event) {\n",
       "        return fig.toolbar_button_onmouseover(event['data']);\n",
       "    }\n",
       "\n",
       "    for(var toolbar_ind in mpl.toolbar_items){\n",
       "        var name = mpl.toolbar_items[toolbar_ind][0];\n",
       "        var tooltip = mpl.toolbar_items[toolbar_ind][1];\n",
       "        var image = mpl.toolbar_items[toolbar_ind][2];\n",
       "        var method_name = mpl.toolbar_items[toolbar_ind][3];\n",
       "\n",
       "        if (!name) { continue; };\n",
       "\n",
       "        var button = $('<button class=\"btn btn-default\" href=\"#\" title=\"' + name + '\"><i class=\"fa ' + image + ' fa-lg\"></i></button>');\n",
       "        button.click(method_name, toolbar_event);\n",
       "        button.mouseover(tooltip, toolbar_mouse_event);\n",
       "        nav_element.append(button);\n",
       "    }\n",
       "\n",
       "    // Add the status bar.\n",
       "    var status_bar = $('<span class=\"mpl-message\" style=\"text-align:right; float: right;\"/>');\n",
       "    nav_element.append(status_bar);\n",
       "    this.message = status_bar[0];\n",
       "\n",
       "    // Add the close button to the window.\n",
       "    var buttongrp = $('<div class=\"btn-group inline pull-right\"></div>');\n",
       "    var button = $('<button class=\"btn btn-mini btn-primary\" href=\"#\" title=\"Stop Interaction\"><i class=\"fa fa-power-off icon-remove icon-large\"></i></button>');\n",
       "    button.click(function (evt) { fig.handle_close(fig, {}); } );\n",
       "    button.mouseover('Stop Interaction', toolbar_mouse_event);\n",
       "    buttongrp.append(button);\n",
       "    var titlebar = this.root.find($('.ui-dialog-titlebar'));\n",
       "    titlebar.prepend(buttongrp);\n",
       "}\n",
       "\n",
       "mpl.figure.prototype._root_extra_style = function(el){\n",
       "    var fig = this\n",
       "    el.on(\"remove\", function(){\n",
       "\tfig.close_ws(fig, {});\n",
       "    });\n",
       "}\n",
       "\n",
       "mpl.figure.prototype._canvas_extra_style = function(el){\n",
       "    // this is important to make the div 'focusable\n",
       "    el.attr('tabindex', 0)\n",
       "    // reach out to IPython and tell the keyboard manager to turn it's self\n",
       "    // off when our div gets focus\n",
       "\n",
       "    // location in version 3\n",
       "    if (IPython.notebook.keyboard_manager) {\n",
       "        IPython.notebook.keyboard_manager.register_events(el);\n",
       "    }\n",
       "    else {\n",
       "        // location in version 2\n",
       "        IPython.keyboard_manager.register_events(el);\n",
       "    }\n",
       "\n",
       "}\n",
       "\n",
       "mpl.figure.prototype._key_event_extra = function(event, name) {\n",
       "    var manager = IPython.notebook.keyboard_manager;\n",
       "    if (!manager)\n",
       "        manager = IPython.keyboard_manager;\n",
       "\n",
       "    // Check for shift+enter\n",
       "    if (event.shiftKey && event.which == 13) {\n",
       "        this.canvas_div.blur();\n",
       "        event.shiftKey = false;\n",
       "        // Send a \"J\" for go to next cell\n",
       "        event.which = 74;\n",
       "        event.keyCode = 74;\n",
       "        manager.command_mode();\n",
       "        manager.handle_keydown(event);\n",
       "    }\n",
       "}\n",
       "\n",
       "mpl.figure.prototype.handle_save = function(fig, msg) {\n",
       "    fig.ondownload(fig, null);\n",
       "}\n",
       "\n",
       "\n",
       "mpl.find_output_cell = function(html_output) {\n",
       "    // Return the cell and output element which can be found *uniquely* in the notebook.\n",
       "    // Note - this is a bit hacky, but it is done because the \"notebook_saving.Notebook\"\n",
       "    // IPython event is triggered only after the cells have been serialised, which for\n",
       "    // our purposes (turning an active figure into a static one), is too late.\n",
       "    var cells = IPython.notebook.get_cells();\n",
       "    var ncells = cells.length;\n",
       "    for (var i=0; i<ncells; i++) {\n",
       "        var cell = cells[i];\n",
       "        if (cell.cell_type === 'code'){\n",
       "            for (var j=0; j<cell.output_area.outputs.length; j++) {\n",
       "                var data = cell.output_area.outputs[j];\n",
       "                if (data.data) {\n",
       "                    // IPython >= 3 moved mimebundle to data attribute of output\n",
       "                    data = data.data;\n",
       "                }\n",
       "                if (data['text/html'] == html_output) {\n",
       "                    return [cell, data, j];\n",
       "                }\n",
       "            }\n",
       "        }\n",
       "    }\n",
       "}\n",
       "\n",
       "// Register the function which deals with the matplotlib target/channel.\n",
       "// The kernel may be null if the page has been refreshed.\n",
       "if (IPython.notebook.kernel != null) {\n",
       "    IPython.notebook.kernel.comm_manager.register_target('matplotlib', mpl.mpl_figure_comm);\n",
       "}\n"
      ],
      "text/plain": [
       "<IPython.core.display.Javascript object>"
      ]
     },
     "metadata": {},
     "output_type": "display_data"
    },
    {
     "data": {
      "text/html": [
       "<div id='a2912403-b2a6-495b-b3a7-cf160e5aa8a0'></div>"
      ],
      "text/plain": [
       "<IPython.core.display.HTML object>"
      ]
     },
     "metadata": {},
     "output_type": "display_data"
    }
   ],
   "source": [
    "batch_size = 100\n",
    "learning_rate = 0.1\n",
    "\n",
    "# Sample some basic data (2000 points from two normal distributions)\n",
    "num = 1000\n",
    "data2d = np.concatenate((\n",
    "    np.random.multivariate_normal([0.0, .5], np.identity(2)*0.1, num),\n",
    "    np.random.multivariate_normal([0.0, -.5], np.identity(2)*0.1, num)))\n",
    "ones = np.ones((num, 1))\n",
    "clss2d = np.concatenate((ones, ones*-1.0))\n",
    "\n",
    "# show the data\n",
    "fig = plt.figure()\n",
    "plt.scatter(data2d[:, 0], data2d[:, 1], c=clss2d, cmap=colors.ListedColormap(['blue', 'red']), linewidth=0)\n",
    "clean()\n",
    "\n",
    "# Now, let's construct our model\n",
    "\n",
    "# Now we use theano to describe the model, the loss, and the gradients\n",
    "x = T.matrix('x') # input\n",
    "\n",
    "W = T.matrix('W') # weights\n",
    "b = T.vector('b') # bias node\n",
    "y_pred = T.tanh((T.dot(x, W) + b))\n",
    "y_true = T.matrix('y_true')\n",
    "loss = T.pow((y_pred - y_true), 2).sum() / batch_size\n",
    "\n",
    "model = th.function([x, W, b], y_pred)\n",
    "err   = th.function([x, W, b, y_true], loss)\n",
    "\n",
    "W_values = np.asarray([[2.0], [1.0]])\n",
    "b_value = np.asarray([1.0])\n",
    "\n",
    "# Theano can take the derivatives with respect to W and b automatically\n",
    "gradient_W = th.function([x, W, b, y_true], T.grad(cost=loss, wrt=W))\n",
    "gradient_b = th.function([x, W, b, y_true], T.grad(cost=loss, wrt=b))\n",
    "\n",
    "# Plot the line\n",
    "line = (- b_value - W_values[0, 0] * data2d[:, 0]) / W_values[1, 0]\n",
    "drawn_line, = fig.gca().plot(data2d[:, 0], line, 'g-')\n",
    "\n",
    "# create a button\n",
    "button = widgets.Button(description='100 steps', width=100)\n",
    "disp.display(button)\n",
    "\n",
    "# This happens when the button is pressed\n",
    "def handle(sender):\n",
    "    global W_values, b_value, drawn_line\n",
    "    \n",
    "    for i in range(100):\n",
    "\n",
    "        # sample a subset of the data\n",
    "        ix = np.random.randint(data2d.shape[0],size=batch_size)\n",
    "        d = data2d[ix, 0:2] # sample_size random rows \n",
    "        c = clss2d[ix].reshape((batch_size, 1)) # the corresponding class labels\n",
    "\n",
    "        # p = model(d, W_values, b_value)\n",
    "        # e = err(d, W_values, b_value, c)\n",
    "        \n",
    "        # Compute the gradients at d\n",
    "        gw = gradient_W(d, W_values, b_value, c)\n",
    "        gb = gradient_b(d, W_values, b_value, c)\n",
    "\n",
    "        # Update the model parameters \n",
    "        W_values -= learning_rate * gw\n",
    "        b_value  -= learning_rate * gb\n",
    "\n",
    "        # re-plot the line\n",
    "        newline = (- b_value - W_values[0, 0] * data2d[:, 0]) / W_values[1, 0]\n",
    "        drawn_line.set_ydata(newline)\n",
    "        fig.canvas.draw()\n",
    "\n",
    "button.on_click(handle)\n",
    "\n",
    "\n"
   ]
  },
  {
   "cell_type": "markdown",
   "metadata": {},
   "source": [
    "Now, instead of two dimensions, our plates/faces dataset has 10800 (60 x 60 x 3), so it's harder to visualize, but the principle is the same. Here, we'll go one step further and create a Theano function for executing a single step of the MSGD algorithm. After all, training is the most expensive step, so that's where we'll need Theano's magic."
   ]
  },
  {
   "cell_type": "code",
   "execution_count": 12,
   "metadata": {
    "collapsed": false,
    "scrolled": false
   },
   "outputs": [
    {
     "name": "stdout",
     "output_type": "stream",
     "text": [
      "iteration 0) error = 3.3062681612836915\n",
      "iteration 2000) error = 0.00013933101443530744\n",
      "iteration 4000) error = 9.541885799353015e-06\n",
      "iteration 6000) error = 1.8676488750826175e-09\n",
      "iteration 8000) error = 1.5724310243798004e-07\n",
      "iteration 10000) error = 8.548431013800206e-08\n",
      "iteration 12000) error = 8.926468249987281e-08\n"
     ]
    },
    {
     "ename": "KeyboardInterrupt",
     "evalue": "",
     "output_type": "error",
     "traceback": [
      "\u001b[1;31m---------------------------------------------------------------------------\u001b[0m",
      "\u001b[1;31mKeyboardInterrupt\u001b[0m                         Traceback (most recent call last)",
      "\u001b[1;32m<ipython-input-12-2f851295308a>\u001b[0m in \u001b[0;36m<module>\u001b[1;34m()\u001b[0m\n\u001b[0;32m     42\u001b[0m \u001b[1;33m\u001b[0m\u001b[0m\n\u001b[0;32m     43\u001b[0m     \u001b[1;31m# perform the update\u001b[0m\u001b[1;33m\u001b[0m\u001b[1;33m\u001b[0m\u001b[0m\n\u001b[1;32m---> 44\u001b[1;33m     \u001b[0merror\u001b[0m \u001b[1;33m=\u001b[0m \u001b[0mtrain\u001b[0m\u001b[1;33m(\u001b[0m\u001b[0md\u001b[0m\u001b[1;33m,\u001b[0m \u001b[0mc\u001b[0m\u001b[1;33m)\u001b[0m\u001b[1;33m\u001b[0m\u001b[0m\n\u001b[0m\u001b[0;32m     45\u001b[0m \u001b[1;33m\u001b[0m\u001b[0m\n\u001b[0;32m     46\u001b[0m     \u001b[1;32mif\u001b[0m \u001b[0mi\u001b[0m \u001b[1;33m%\u001b[0m \u001b[1;36m2000\u001b[0m \u001b[1;33m==\u001b[0m \u001b[1;36m0\u001b[0m\u001b[1;33m:\u001b[0m\u001b[1;33m\u001b[0m\u001b[0m\n",
      "\u001b[1;32m/home/peter/anaconda3/lib/python3.5/site-packages/theano/compile/function_module.py\u001b[0m in \u001b[0;36m__call__\u001b[1;34m(self, *args, **kwargs)\u001b[0m\n\u001b[0;32m    857\u001b[0m         \u001b[0mt0_fn\u001b[0m \u001b[1;33m=\u001b[0m \u001b[0mtime\u001b[0m\u001b[1;33m.\u001b[0m\u001b[0mtime\u001b[0m\u001b[1;33m(\u001b[0m\u001b[1;33m)\u001b[0m\u001b[1;33m\u001b[0m\u001b[0m\n\u001b[0;32m    858\u001b[0m         \u001b[1;32mtry\u001b[0m\u001b[1;33m:\u001b[0m\u001b[1;33m\u001b[0m\u001b[0m\n\u001b[1;32m--> 859\u001b[1;33m             \u001b[0moutputs\u001b[0m \u001b[1;33m=\u001b[0m \u001b[0mself\u001b[0m\u001b[1;33m.\u001b[0m\u001b[0mfn\u001b[0m\u001b[1;33m(\u001b[0m\u001b[1;33m)\u001b[0m\u001b[1;33m\u001b[0m\u001b[0m\n\u001b[0m\u001b[0;32m    860\u001b[0m         \u001b[1;32mexcept\u001b[0m \u001b[0mException\u001b[0m\u001b[1;33m:\u001b[0m\u001b[1;33m\u001b[0m\u001b[0m\n\u001b[0;32m    861\u001b[0m             \u001b[1;32mif\u001b[0m \u001b[0mhasattr\u001b[0m\u001b[1;33m(\u001b[0m\u001b[0mself\u001b[0m\u001b[1;33m.\u001b[0m\u001b[0mfn\u001b[0m\u001b[1;33m,\u001b[0m \u001b[1;34m'position_of_error'\u001b[0m\u001b[1;33m)\u001b[0m\u001b[1;33m:\u001b[0m\u001b[1;33m\u001b[0m\u001b[0m\n",
      "\u001b[1;31mKeyboardInterrupt\u001b[0m: "
     ]
    }
   ],
   "source": [
    "learning_rate = 0.001\n",
    "batch_size = 20\n",
    "iterations = 20000\n",
    "\n",
    "n_from = num_features # number of incoming nodes\n",
    "n_to = 1 # number of outgoing nodes\n",
    "\n",
    "# The weights\n",
    "bnd = math.sqrt(6.0/num_features)\n",
    "W_values = np.random.rand(n_from, n_to) * (2.0 * bnd) - bnd\n",
    "W = th.shared(value=W_values, name='W', borrow=True) \n",
    "# NB: We now store the parameters as a _shared_ variable\n",
    "\n",
    "# The weight on the bias node (also shared) \n",
    "b_value = np.random.rand(1)  * (2.0 * bnd) - bnd\n",
    "b = th.shared(value=b_value, name='b', borrow=True)\n",
    "\n",
    "x = T.matrix('x')\n",
    "y_pred = T.tanh(T.dot(x, W) + b)\n",
    "y_true = T.matrix('y_true')\n",
    "loss = T.pow(y_pred - y_true, 2).sum() / batch_size\n",
    "\n",
    "model = th.function([x], y_pred)\n",
    "\n",
    "# The derivatives (note, not compiled into functions, this time)\n",
    "gradient_W = T.grad(cost=loss, wrt=W)\n",
    "gradient_b = T.grad(cost=loss, wrt=b)\n",
    "\n",
    "# Our training function will be the computation of the loss (feedforward)\n",
    "# with the updating of parameters (backpropagation) as a side-effect\n",
    "updates = [(W, W - learning_rate * gradient_W),\n",
    "           (b, b - learning_rate * gradient_b)]\n",
    "train = th.function([x, y_true], loss, updates=updates)\n",
    "\n",
    "# Now we can learn\n",
    "\n",
    "for i in range(iterations):\n",
    "    # select a mini-batch\n",
    "    ix = np.random.randint(data.shape[0], size=batch_size)\n",
    "    d = data[ix, :]\n",
    "    c = clss[ix, 0].reshape((d.shape[0],1))\n",
    "    \n",
    "    # perform the update\n",
    "    error = train(d, c)\n",
    "    \n",
    "    if i % 2000 == 0:\n",
    "        print('iteration {}) error = {}'.format(i, error))\n",
    "\n",
    "# Test the results        \n",
    "for i in range(10):\n",
    "    \n",
    "    vector = test_data[random.randint(0, test_data.shape[0]-1), :]\n",
    "\n",
    "    # predict the label\n",
    "    cls = model(vector.reshape(1, vector.shape[0]))\n",
    "       \n",
    "    vector = vector.reshape(old_shape) * 255.0 # flatten\n",
    "    vector = vector.astype('uint8')    # convert to integers\n",
    "\n",
    "    image = Image.fromarray(vector)    # convert to image\n",
    "\n",
    "    # ... convert to notebook output\n",
    "    b = BytesIO() \n",
    "    image.save(b, format='png')\n",
    "    disp.display(disp.Image(b.getvalue())) \n",
    "    print('... is a face\\n\\n' if cls < 0 else '... is a plate\\b\\b')\n"
   ]
  },
  {
   "cell_type": "markdown",
   "metadata": {},
   "source": [
    "NB: Our loss function is also a bit simplistic: see http://deeplearning.net/tutorial/logreg.html for a more modern example."
   ]
  },
  {
   "cell_type": "markdown",
   "metadata": {},
   "source": [
    "## Part 3: The denoising auto-encoder\n",
    "\n",
    "We will take the auto-encoder class directly from the deeplearning.net tutorial. See http://deeplearning.net/tutorial/dA.html for an in-depth explanation, and a version with more comments."
   ]
  },
  {
   "cell_type": "code",
   "execution_count": 13,
   "metadata": {
    "collapsed": true
   },
   "outputs": [],
   "source": [
    "class dA(object):\n",
    "    def __init__(\n",
    "        self,\n",
    "        numpy_rng,\n",
    "        theano_rng=None,\n",
    "        input=None,\n",
    "        n_visible=784,\n",
    "        n_hidden=500,\n",
    "        W=None,\n",
    "        bhid=None,\n",
    "        bvis=None\n",
    "    ):\n",
    "\n",
    "        self.n_visible = n_visible\n",
    "        self.n_hidden = n_hidden\n",
    "\n",
    "        # create a Theano random generator that gives symbolic random values\n",
    "        if not theano_rng:\n",
    "            theano_rng = RandomStreams(numpy_rng.randint(2 ** 30))\n",
    "\n",
    "        if not W:\n",
    "            # Initialize the weights randomly\n",
    "            initial_W = np.asarray(\n",
    "                numpy_rng.uniform(\n",
    "                    low=-4 * np.sqrt(6. / (n_hidden + n_visible)),\n",
    "                    high=4 * np.sqrt(6. / (n_hidden + n_visible)),\n",
    "                    size=(n_visible, n_hidden)\n",
    "                ),\n",
    "                dtype=th.config.floatX\n",
    "            )\n",
    "            W = th.shared(value=initial_W, name='W', borrow=True)\n",
    "\n",
    "        if not bvis:\n",
    "            bvis = th.shared(\n",
    "                value=np.zeros(\n",
    "                    n_visible,\n",
    "                    dtype=th.config.floatX\n",
    "                ),\n",
    "                borrow=True\n",
    "            )\n",
    "\n",
    "        if not bhid:\n",
    "            bhid = th.shared(\n",
    "                value=np.zeros(\n",
    "                    n_hidden,\n",
    "                    dtype=th.config.floatX\n",
    "                ),\n",
    "                name='b',\n",
    "                borrow=True\n",
    "            )\n",
    "\n",
    "        self.W = W\n",
    "        # b corresponds to the bias of the hidden\n",
    "        self.b = bhid\n",
    "        # b_prime corresponds to the bias of the visible\n",
    "        self.b_prime = bvis\n",
    "        # tied weights, therefore W_prime is W transpose\n",
    "        self.W_prime = self.W.T\n",
    "        self.theano_rng = theano_rng\n",
    "        # if no input is given, generate a variable representing the input\n",
    "        if input is None:\n",
    "            # we use a matrix because we expect a minibatch of several\n",
    "            # examples, each example being a row\n",
    "            self.x = T.dmatrix(name='input')\n",
    "        else:\n",
    "            self.x = input\n",
    "\n",
    "        self.params = [self.W, self.b, self.b_prime]\n",
    "\n",
    "    def get_corrupted_input(self, input, corruption_level):\n",
    "        return self.theano_rng.binomial(size=input.shape, n=1,\n",
    "                                        p=1 - corruption_level,\n",
    "                                        dtype=th.config.floatX) * input\n",
    "\n",
    "    def get_hidden_values(self, input):\n",
    "        \"\"\" Computes the values of the hidden layer \"\"\"\n",
    "        return T.nnet.sigmoid(T.dot(input, self.W) + self.b)\n",
    "\n",
    "    def get_reconstructed_input(self, hidden):\n",
    "        \"\"\"Computes the reconstructed input given the values of the\n",
    "        hidden layer\"\"\"\n",
    "        return T.nnet.sigmoid(T.dot(hidden, self.W_prime) + self.b_prime)\n",
    "\n",
    "    def get_cost_updates(self, corruption_level, learning_rate):\n",
    "        \"\"\" This function computes the cost and the updates for one trainng\n",
    "        step of the dA \"\"\"\n",
    "\n",
    "        tilde_x = self.get_corrupted_input(self.x, corruption_level)\n",
    "        y = self.get_hidden_values(tilde_x)\n",
    "        z = self.get_reconstructed_input(y)\n",
    "        # note : we sum over the size of a datapoint; if we are using\n",
    "        #        minibatches, L will be a vector, with one entry per\n",
    "        #        example in minibatch\n",
    "        L = - T.sum(self.x * T.log(z) + (1 - self.x) * T.log(1 - z), axis=1)\n",
    "        # note : L is now a vector, where each element is the\n",
    "        #        cross-entropy cost of the reconstruction of the\n",
    "        #        corresponding example of the minibatch. We need to\n",
    "        #        compute the average of all these to get the cost of\n",
    "        #        the minibatch\n",
    "        cost = T.mean(L)\n",
    "\n",
    "        # compute the gradients of the cost of the `dA` with respect\n",
    "        # to its parameters\n",
    "        gparams = T.grad(cost, self.params)\n",
    "        # generate the list of updates\n",
    "        updates = [\n",
    "            (param, param - learning_rate * gparam)\n",
    "            for param, gparam in zip(self.params, gparams)\n",
    "        ]\n",
    "\n",
    "        return (cost, updates)"
   ]
  },
  {
   "cell_type": "markdown",
   "metadata": {},
   "source": [
    "We can now implement the training function. Since we're not working on the GPU, I've simplified it from the main tutorial."
   ]
  },
  {
   "cell_type": "code",
   "execution_count": 61,
   "metadata": {
    "collapsed": false,
    "scrolled": false
   },
   "outputs": [
    {
     "name": "stdout",
     "output_type": "stream",
     "text": [
      "iteration 5) error = 7484.196145289149\n",
      "iteration 10) error = 7476.91081911\n",
      "iteration 15) error = 7473.950436835298\n",
      "iteration 20) error = 7461.669611229915\n",
      "iteration 25) error = 7458.9488722726455\n",
      "iteration 30) error = 7461.016151339559\n",
      "iteration 35) error = 7453.574284100542\n",
      "iteration 40) error = 7457.618453779316\n",
      "iteration 45) error = 7466.883355140058\n",
      "iteration 50) error = 7437.071781375848\n",
      "iteration 55) error = 7483.77230197903\n",
      "iteration 60) error = 7434.64785719477\n",
      "iteration 65) error = 7434.408546679936\n",
      "iteration 70) error = 7436.429921166243\n",
      "iteration 75) error = 7430.950262815659\n",
      "iteration 80) error = 7415.382177393783\n",
      "iteration 85) error = 7429.912808966567\n",
      "iteration 90) error = 7418.1514339357545\n",
      "iteration 95) error = 7421.557696282461\n"
     ]
    }
   ],
   "source": [
    "from theano.tensor.shared_randomstreams import RandomStreams\n",
    "\n",
    "iterations = 100\n",
    "batch_size = 1\n",
    "learning_rate = 0.001\n",
    "\n",
    "rng = np.random.RandomState(123)\n",
    "theano_rng = RandomStreams(rng.randint(2 ** 30))\n",
    "\n",
    "xda = T.matrix('xda')\n",
    "\n",
    "# Build the model, with a 30% corruption of the input\n",
    "da = dA(\n",
    "    numpy_rng=rng,\n",
    "    theano_rng=theano_rng,\n",
    "    input=xda,\n",
    "    n_visible=60 * 60 * 3,\n",
    "    n_hidden=10\n",
    ")\n",
    "\n",
    "cost, updates = da.get_cost_updates(\n",
    "    corruption_level=0.3, # With corruption\n",
    "    learning_rate=learning_rate\n",
    ")\n",
    "\n",
    "train_da = th.function(\n",
    "    [xda],\n",
    "    cost,\n",
    "    updates=updates,\n",
    ")\n",
    "\n",
    "# We train in the same way we did for the perceptron\n",
    "for i in range(iterations):\n",
    "    # select a mini-batch\n",
    "    ix = np.random.randint(data.shape[0], size=batch_size)\n",
    "    batch = data[ix, :]\n",
    "    \n",
    "    # perform the update\n",
    "    error = train_da(batch)\n",
    "    \n",
    "    if i != 0 and i % (iterations/20)  == 0:\n",
    "        print('iteration {}) error = {}'.format(i, error))\n",
    "\n"
   ]
  },
  {
   "cell_type": "markdown",
   "metadata": {},
   "source": [
    "To illustrate what the network has learned, we take two images from our test set, and find the images in between them in the reduced space"
   ]
  },
  {
   "cell_type": "code",
   "execution_count": 62,
   "metadata": {
    "collapsed": false,
    "scrolled": true
   },
   "outputs": [
    {
     "data": {
      "image/png": "[encoded data removed]",
      "text/plain": [
       "<IPython.core.display.Image object>"
      ]
     },
     "metadata": {},
     "output_type": "display_data"
    },
    {
     "data": {
      "image/png": "[encoded data removed]",
      "text/plain": [
       "<IPython.core.display.Image object>"
      ]
     },
     "metadata": {},
     "output_type": "display_data"
    },
    {
     "data": {
      "image/png": "[encoded data removed]",
      "text/plain": [
       "<IPython.core.display.Image object>"
      ]
     },
     "metadata": {},
     "output_type": "display_data"
    },
    {
     "data": {
      "image/png": "[encoded data removed]",
      "text/plain": [
       "<IPython.core.display.Image object>"
      ]
     },
     "metadata": {},
     "output_type": "display_data"
    },
    {
     "data": {
      "image/png": "[encoded data removed]",
      "text/plain": [
       "<IPython.core.display.Image object>"
      ]
     },
     "metadata": {},
     "output_type": "display_data"
    },
    {
     "data": {
      "image/png": "[encoded data removed]",
      "text/plain": [
       "<IPython.core.display.Image object>"
      ]
     },
     "metadata": {},
     "output_type": "display_data"
    },
    {
     "data": {
      "image/png": "[encoded data removed]",
      "text/plain": [
       "<IPython.core.display.Image object>"
      ]
     },
     "metadata": {},
     "output_type": "display_data"
    },
    {
     "data": {
      "image/png": "[encoded data removed]",
      "text/plain": [
       "<IPython.core.display.Image object>"
      ]
     },
     "metadata": {},
     "output_type": "display_data"
    },
    {
     "data": {
      "image/png": "[encoded data removed]",
      "text/plain": [
       "<IPython.core.display.Image object>"
      ]
     },
     "metadata": {},
     "output_type": "display_data"
    },
    {
     "data": {
      "image/png": "[encoded data removed]",
      "text/plain": [
       "<IPython.core.display.Image object>"
      ]
     },
     "metadata": {},
     "output_type": "display_data"
    }
   ],
   "source": [
    "# plot the filters\n",
    "\n",
    "wval = da.W.get_value(borrow=True)\n",
    "\n",
    "for i in range(wval.shape[1]):\n",
    "    col = wval[:, i]\n",
    "\n",
    "    fil = col.reshape(old_shape)\n",
    "\n",
    "    # Plot the filters\n",
    "    image = Image.fromarray((fil * 255.0).astype('uint8'))\n",
    "\n",
    "    b = BytesIO()\n",
    "    image.save(b, format='png')\n",
    "    disp.display(disp.Image(b.getvalue())) "
   ]
  },
  {
   "cell_type": "code",
   "execution_count": 49,
   "metadata": {
    "collapsed": false,
    "scrolled": false
   },
   "outputs": [
    {
     "name": "stdout",
     "output_type": "stream",
     "text": [
      "first image\n"
     ]
    },
    {
     "data": {
      "image/png": "[encoded data removed]",
      "text/plain": [
       "<IPython.core.display.Image object>"
      ]
     },
     "metadata": {},
     "output_type": "display_data"
    },
    {
     "name": "stdout",
     "output_type": "stream",
     "text": [
      "second image\n"
     ]
    },
    {
     "data": {
      "image/png": "[encoded data removed]",
      "text/plain": [
       "<IPython.core.display.Image object>"
      ]
     },
     "metadata": {},
     "output_type": "display_data"
    },
    {
     "name": "stdout",
     "output_type": "stream",
     "text": [
      "0.0\n"
     ]
    },
    {
     "data": {
      "image/png": "[encoded data removed]",
      "text/plain": [
       "<IPython.core.display.Image object>"
      ]
     },
     "metadata": {},
     "output_type": "display_data"
    },
    {
     "name": "stdout",
     "output_type": "stream",
     "text": [
      "0.25\n"
     ]
    },
    {
     "data": {
      "image/png": "[encoded data removed]",
      "text/plain": [
       "<IPython.core.display.Image object>"
      ]
     },
     "metadata": {},
     "output_type": "display_data"
    },
    {
     "name": "stdout",
     "output_type": "stream",
     "text": [
      "0.5\n"
     ]
    },
    {
     "data": {
      "image/png": "[encoded data removed]",
      "text/plain": [
       "<IPython.core.display.Image object>"
      ]
     },
     "metadata": {},
     "output_type": "display_data"
    },
    {
     "name": "stdout",
     "output_type": "stream",
     "text": [
      "0.75\n"
     ]
    },
    {
     "data": {
      "image/png": "[encoded data removed]",
      "text/plain": [
       "<IPython.core.display.Image object>"
      ]
     },
     "metadata": {},
     "output_type": "display_data"
    },
    {
     "name": "stdout",
     "output_type": "stream",
     "text": [
      "1.0\n"
     ]
    },
    {
     "data": {
      "image/png": "[encoded data removed]",
      "text/plain": [
       "<IPython.core.display.Image object>"
      ]
     },
     "metadata": {},
     "output_type": "display_data"
    }
   ],
   "source": [
    "# Function for running the trained network\n",
    "hiddens = da.get_hidden_values(xda)\n",
    "reduce = th.function([xda], hiddens)\n",
    "\n",
    "visibs = da.get_reconstructed_input(hiddens)\n",
    "expand = th.function([hiddens], visibs)\n",
    "\n",
    "# Sample two random images\n",
    "im1 = data[random.randint(0, data.shape[0]-1), :] \n",
    "im2 = data[random.randint(0, data.shape[0]-1), :] \n",
    "\n",
    "# reduce \n",
    "\n",
    "h1 = reduce(im1.reshape((1, im1.shape[0])))\n",
    "h2 = reduce(im2.reshape((1, im2.shape[0])))\n",
    "\n",
    "print('first image')\n",
    "vector = im1.reshape(old_shape) * 255.0 # flatten\n",
    "vector = vector.astype('uint8')    # convert to integers\n",
    "\n",
    "image = Image.fromarray(vector)    # convert to image\n",
    "\n",
    "b = BytesIO()\n",
    "image.save(b, format='png')\n",
    "disp.display(disp.Image(b.getvalue())) \n",
    "\n",
    "print('second image')\n",
    "vector = im2.reshape(old_shape) * 255.0 # flatten\n",
    "vector = vector.astype('uint8')    # convert to integers\n",
    "\n",
    "image = Image.fromarray(vector)    # convert to image\n",
    "\n",
    "b = BytesIO()\n",
    "image.save(b, format='png')\n",
    "disp.display(disp.Image(b.getvalue())) \n",
    "\n",
    "inbetweens = 10\n",
    "\n",
    "for a in np.linspace(0.0, 1.0, 5):\n",
    "    print (a)\n",
    "    \n",
    "    h_mid = h2 * a + h1 * (1.0 - a)\n",
    "    im_mid = expand(h_mid)\n",
    "        \n",
    "    vector = im_mid.reshape(old_shape) * 255.0 # flatten\n",
    "    vector = vector.astype('uint8')    # convert to integers\n",
    "\n",
    "    image = Image.fromarray(vector)    # convert to image\n",
    "\n",
    "    b = BytesIO()\n",
    "    image.save(b, format='png')\n",
    "    disp.display(disp.Image(b.getvalue())) \n",
    "\n"
   ]
  },
  {
   "cell_type": "markdown",
   "metadata": {},
   "source": [
    "## Part 4: The _stacked_ denoising auto-encoder\n",
    "\n",
    "In this part we will finally be doing some actual, proper deep learning. We will use the autoencoder of the last section to create a stacked autoencoder. Again, we will borrow heavily from the implementation at http://deeplearning.net/tutorial/SdA.html. "
   ]
  },
  {
   "cell_type": "code",
   "execution_count": 16,
   "metadata": {
    "collapsed": false
   },
   "outputs": [],
   "source": [
    "# First we define a class representing a basic hidden layer\n",
    "class HiddenLayer(object):\n",
    "    def __init__(self, rng, input, n_in, n_out, W=None, b=None,\n",
    "                 activation=T.tanh):\n",
    "        self.input = input\n",
    "\n",
    "        if W is None:\n",
    "            W_values = np.asarray(\n",
    "                rng.uniform(\n",
    "                    low=-np.sqrt(6. / (n_in + n_out)),\n",
    "                    high=np.sqrt(6. / (n_in + n_out)),\n",
    "                    size=(n_in, n_out)\n",
    "                ),\n",
    "                dtype=th.config.floatX\n",
    "            )\n",
    "            if activation == th.tensor.nnet.sigmoid:\n",
    "                W_values *= 4\n",
    "\n",
    "            W = th.shared(value=W_values, name='W', borrow=True)\n",
    "\n",
    "        if b is None:\n",
    "            b_values = np.zeros((n_out,), dtype=th.config.floatX)\n",
    "            b = th.shared(value=b_values, name='b', borrow=True)\n",
    "\n",
    "        self.W = W\n",
    "        self.b = b\n",
    "\n",
    "        lin_output = T.dot(input, self.W) + self.b\n",
    "        self.output = (\n",
    "            lin_output if activation is None\n",
    "            else activation(lin_output)\n",
    "        )\n",
    "        # parameters of the model\n",
    "        self.params = [self.W, self.b]\n",
    "\n",
    "\n",
    "\n",
    "# Now the class representing the stacked auto-encoder \n",
    "class SdA(object):\n",
    "    def __init__(\n",
    "        self,\n",
    "        numpy_rng,\n",
    "        input=input,\n",
    "        theano_rng=None,\n",
    "        n_ins=784,\n",
    "        hidden_layers_sizes=[20000]\n",
    "    ):\n",
    "        self.sigmoid_layers = []\n",
    "        self.dA_layers = []\n",
    "        self.params = []\n",
    "        self.n_layers = len(hidden_layers_sizes)\n",
    "\n",
    "        assert self.n_layers > 0\n",
    "\n",
    "        if not theano_rng:\n",
    "            theano_rng = RandomStreams(numpy_rng.randint(2 ** 30))\n",
    "            \n",
    "        # allocate symbolic variables for the data\n",
    "        self.x = input # the data is presented as rasterized images\n",
    "\n",
    "        for i in range(self.n_layers):\n",
    "                # construct the sigmoidal layer\n",
    "\n",
    "                # the size of the input is either the number of hidden units of\n",
    "                # the layer below or the input size if we are on the first layer\n",
    "                if i == 0:\n",
    "                    input_size = n_ins\n",
    "                else:\n",
    "                    input_size = hidden_layers_sizes[i - 1]\n",
    "\n",
    "                # the input to this layer is either the activation of the hidden\n",
    "                # layer below or the input of the SdA if you are on the first\n",
    "                # layer\n",
    "                if i == 0:\n",
    "                    layer_input = self.x\n",
    "                else:\n",
    "                    layer_input = self.sigmoid_layers[-1].output\n",
    "\n",
    "                sigmoid_layer = HiddenLayer(rng=numpy_rng,\n",
    "                                            input=layer_input,\n",
    "                                            n_in=input_size,\n",
    "                                            n_out=hidden_layers_sizes[i],\n",
    "                                            activation=T.nnet.sigmoid)\n",
    "                # add the layer to our list of layers\n",
    "                self.sigmoid_layers.append(sigmoid_layer)\n",
    "                # its arguably a philosophical question...\n",
    "                # but we are going to only declare that the parameters of the\n",
    "                # sigmoid_layers are parameters of the StackedDAA\n",
    "                # the visible biases in the dA are parameters of those\n",
    "                # dA, but not the SdA\n",
    "                self.params.extend(sigmoid_layer.params)\n",
    "\n",
    "                # We re-use our da class, and give it the shared weight\n",
    "                # matrix from this stacked autoencoder\n",
    "                dA_layer = dA(numpy_rng=numpy_rng,\n",
    "                              theano_rng=theano_rng,\n",
    "                              input=layer_input,\n",
    "                              n_visible=input_size,\n",
    "                              n_hidden=hidden_layers_sizes[i],\n",
    "                              W=sigmoid_layer.W,\n",
    "                              bhid=sigmoid_layer.b)\n",
    "                self.dA_layers.append(dA_layer)\n",
    "                \n",
    "    def pretraining_functions(self):\n",
    "        ''' Returns training functions for each layer\n",
    "        '''\n",
    "\n",
    "        # index to a [mini]batch\n",
    "        corruption_level = T.scalar('corruption')  # % of corruption to use\n",
    "        learning_rate = T.scalar('lr')  # learning rate to use\n",
    "        \n",
    "        pretrain_fns = []\n",
    "        for dA in self.dA_layers:\n",
    "            # get the cost and the updates list\n",
    "            cost, updates = dA.get_cost_updates(corruption_level,\n",
    "                                                learning_rate)\n",
    "            # compile the theano function\n",
    "            fn = th.function(\n",
    "                inputs=[\n",
    "                    self.x,\n",
    "                    th.In(corruption_level, value=0.01),\n",
    "                    th.In(learning_rate, value=0.1)\n",
    "                ],\n",
    "                outputs=cost,\n",
    "                updates=updates\n",
    "            )\n",
    "            # append `fn` to the list of functions\n",
    "            pretrain_fns.append(fn)\n",
    "\n",
    "        return pretrain_fns \n",
    "    \n",
    "    def get_hidden_values(self, input):\n",
    "        result = input\n",
    "        for layer in self.dA_layers:\n",
    "            result = layer.get_hidden_values(result)\n",
    "        return result\n",
    "\n",
    "    def get_reconstructed_input(self, hidden):\n",
    "        result = hidden\n",
    "        for layer in reversed(self.dA_layers):\n",
    "            result = layer.get_reconstructed_input(result)\n",
    "        return result\n",
    "    "
   ]
  },
  {
   "cell_type": "markdown",
   "metadata": {},
   "source": [
    "We can now build and train the model."
   ]
  },
  {
   "cell_type": "code",
   "execution_count": 17,
   "metadata": {
    "collapsed": false,
    "scrolled": true
   },
   "outputs": [
    {
     "name": "stdout",
     "output_type": "stream",
     "text": [
      "training layer 0\n",
      "\titeration 0) error = 11607.175788086091\n",
      "\titeration 100) error = 89179.15969594111\n",
      "\titeration 200) error = 86589.57117371984\n",
      "\titeration 300) error = 69859.05587347764\n",
      "\titeration 400) error = 65626.58805651302\n",
      "\titeration 500) error = 6864.456754011499\n",
      "\titeration 600) error = 6752.912912981995\n",
      "\titeration 700) error = 6911.557789535383\n",
      "\titeration 800) error = 6769.925587114546\n"
     ]
    },
    {
     "ename": "KeyboardInterrupt",
     "evalue": "",
     "output_type": "error",
     "traceback": [
      "\u001b[1;31m---------------------------------------------------------------------------\u001b[0m",
      "\u001b[1;31mKeyboardInterrupt\u001b[0m                         Traceback (most recent call last)",
      "\u001b[1;32m<ipython-input-17-5f220341e814>\u001b[0m in \u001b[0;36m<module>\u001b[1;34m()\u001b[0m\n\u001b[0;32m     26\u001b[0m \u001b[1;33m\u001b[0m\u001b[0m\n\u001b[0;32m     27\u001b[0m         \u001b[1;31m# perform the update\u001b[0m\u001b[1;33m\u001b[0m\u001b[1;33m\u001b[0m\u001b[0m\n\u001b[1;32m---> 28\u001b[1;33m         \u001b[0merror\u001b[0m \u001b[1;33m=\u001b[0m \u001b[0mpretraining_fns\u001b[0m\u001b[1;33m[\u001b[0m\u001b[0ml\u001b[0m\u001b[1;33m]\u001b[0m\u001b[1;33m(\u001b[0m\u001b[0mbatch\u001b[0m\u001b[1;33m)\u001b[0m\u001b[1;33m\u001b[0m\u001b[0m\n\u001b[0m\u001b[0;32m     29\u001b[0m \u001b[1;33m\u001b[0m\u001b[0m\n\u001b[0;32m     30\u001b[0m         \u001b[1;32mif\u001b[0m \u001b[0mi\u001b[0m \u001b[1;33m%\u001b[0m \u001b[1;36m100\u001b[0m \u001b[1;33m==\u001b[0m \u001b[1;36m0\u001b[0m\u001b[1;33m:\u001b[0m\u001b[1;33m\u001b[0m\u001b[0m\n",
      "\u001b[1;32m/home/peter/anaconda3/lib/python3.5/site-packages/theano/compile/function_module.py\u001b[0m in \u001b[0;36m__call__\u001b[1;34m(self, *args, **kwargs)\u001b[0m\n\u001b[0;32m    857\u001b[0m         \u001b[0mt0_fn\u001b[0m \u001b[1;33m=\u001b[0m \u001b[0mtime\u001b[0m\u001b[1;33m.\u001b[0m\u001b[0mtime\u001b[0m\u001b[1;33m(\u001b[0m\u001b[1;33m)\u001b[0m\u001b[1;33m\u001b[0m\u001b[0m\n\u001b[0;32m    858\u001b[0m         \u001b[1;32mtry\u001b[0m\u001b[1;33m:\u001b[0m\u001b[1;33m\u001b[0m\u001b[0m\n\u001b[1;32m--> 859\u001b[1;33m             \u001b[0moutputs\u001b[0m \u001b[1;33m=\u001b[0m \u001b[0mself\u001b[0m\u001b[1;33m.\u001b[0m\u001b[0mfn\u001b[0m\u001b[1;33m(\u001b[0m\u001b[1;33m)\u001b[0m\u001b[1;33m\u001b[0m\u001b[0m\n\u001b[0m\u001b[0;32m    860\u001b[0m         \u001b[1;32mexcept\u001b[0m \u001b[0mException\u001b[0m\u001b[1;33m:\u001b[0m\u001b[1;33m\u001b[0m\u001b[0m\n\u001b[0;32m    861\u001b[0m             \u001b[1;32mif\u001b[0m \u001b[0mhasattr\u001b[0m\u001b[1;33m(\u001b[0m\u001b[0mself\u001b[0m\u001b[1;33m.\u001b[0m\u001b[0mfn\u001b[0m\u001b[1;33m,\u001b[0m \u001b[1;34m'position_of_error'\u001b[0m\u001b[1;33m)\u001b[0m\u001b[1;33m:\u001b[0m\u001b[1;33m\u001b[0m\u001b[0m\n",
      "\u001b[1;31mKeyboardInterrupt\u001b[0m: "
     ]
    }
   ],
   "source": [
    "iterations = 10000\n",
    "batch_size = 100\n",
    "learning_rate = 0.01\n",
    "\n",
    "numpy_rng = np.random.RandomState(89677)\n",
    "\n",
    "x_sda = T.matrix('x_sda')\n",
    "\n",
    "# construct the stacked denoising autoencoder class\n",
    "sda = SdA(\n",
    "    input=x_sda,\n",
    "    numpy_rng=numpy_rng,\n",
    "    n_ins= 60 * 60 * 3,\n",
    "    hidden_layers_sizes=[10000]\n",
    ")\n",
    "\n",
    "pretraining_fns = sda.pretraining_functions()\n",
    "\n",
    "# We train in the same way we did for the perceptron\n",
    "for l in range(sda.n_layers):\n",
    "    print('training layer {}'.format(l))\n",
    "    for i in range(iterations):\n",
    "        # select a mini-batch\n",
    "        ix = np.random.randint(data.shape[0], size=batch_size)\n",
    "        batch = data[ix, :]\n",
    "    \n",
    "        # perform the update\n",
    "        error = pretraining_fns[l](batch)\n",
    "    \n",
    "        if i % 100 == 0:\n",
    "            print('\\titeration {}) error = {}'.format(i, error))"
   ]
  },
  {
   "cell_type": "markdown",
   "metadata": {},
   "source": [
    "Finally, we will use the same trick we used earlier to show how the network behaves."
   ]
  },
  {
   "cell_type": "code",
   "execution_count": 48,
   "metadata": {
    "collapsed": false
   },
   "outputs": [
    {
     "name": "stdout",
     "output_type": "stream",
     "text": [
      "first image\n"
     ]
    },
    {
     "data": {
      "image/png": "[encoded data removed]",
      "text/plain": [
       "<IPython.core.display.Image object>"
      ]
     },
     "metadata": {},
     "output_type": "display_data"
    },
    {
     "name": "stdout",
     "output_type": "stream",
     "text": [
      "second image\n"
     ]
    },
    {
     "data": {
      "image/png": "[encoded data removed]",
      "text/plain": [
       "<IPython.core.display.Image object>"
      ]
     },
     "metadata": {},
     "output_type": "display_data"
    },
    {
     "name": "stdout",
     "output_type": "stream",
     "text": [
      "0.0\n"
     ]
    },
    {
     "data": {
      "image/png": "[encoded data removed]",
      "text/plain": [
       "<IPython.core.display.Image object>"
      ]
     },
     "metadata": {},
     "output_type": "display_data"
    },
    {
     "name": "stdout",
     "output_type": "stream",
     "text": [
      "0.25\n"
     ]
    },
    {
     "data": {
      "image/png": "[encoded data removed]",
      "text/plain": [
       "<IPython.core.display.Image object>"
      ]
     },
     "metadata": {},
     "output_type": "display_data"
    },
    {
     "name": "stdout",
     "output_type": "stream",
     "text": [
      "0.5\n"
     ]
    },
    {
     "data": {
      "image/png": "[encoded data removed]",
      "text/plain": [
       "<IPython.core.display.Image object>"
      ]
     },
     "metadata": {},
     "output_type": "display_data"
    },
    {
     "name": "stdout",
     "output_type": "stream",
     "text": [
      "0.75\n"
     ]
    },
    {
     "data": {
      "image/png": "[encoded data removed]",
      "text/plain": [
       "<IPython.core.display.Image object>"
      ]
     },
     "metadata": {},
     "output_type": "display_data"
    },
    {
     "name": "stdout",
     "output_type": "stream",
     "text": [
      "1.0\n"
     ]
    },
    {
     "data": {
      "image/png": "[encoded data removed]",
      "text/plain": [
       "<IPython.core.display.Image object>"
      ]
     },
     "metadata": {},
     "output_type": "display_data"
    }
   ],
   "source": [
    "# Function for running the trained network\n",
    "hiddens = sda.get_hidden_values(x_sda)\n",
    "reduce = th.function([x_sda], hiddens)\n",
    "\n",
    "visibs = sda.get_reconstructed_input(hiddens)\n",
    "expand = th.function([hiddens], visibs)\n",
    "\n",
    "# Sample two random images\n",
    "im1 = data[random.randint(0, data.shape[0]-1), :] \n",
    "im2 = data[random.randint(0, data.shape[0]-1), :] \n",
    "\n",
    "# reduce \n",
    "\n",
    "h1 = reduce(im1.reshape((1, im1.shape[0])))\n",
    "h2 = reduce(im2.reshape((1, im2.shape[0])))\n",
    "\n",
    "print('first image')\n",
    "vector = im1.reshape(old_shape) * 255.0 # flatten\n",
    "vector = vector.astype('uint8')    # convert to integers\n",
    "\n",
    "image = Image.fromarray(vector)    # convert to image\n",
    "\n",
    "b = BytesIO()\n",
    "image.save(b, format='png')\n",
    "disp.display(disp.Image(b.getvalue())) \n",
    "\n",
    "print('second image')\n",
    "vector = im2.reshape(old_shape) * 255.0 # flatten\n",
    "vector = vector.astype('uint8')    # convert to integers\n",
    "\n",
    "image = Image.fromarray(vector)    # convert to image\n",
    "\n",
    "b = BytesIO()\n",
    "image.save(b, format='png')\n",
    "disp.display(disp.Image(b.getvalue())) \n",
    "\n",
    "inbetweens = 10\n",
    "\n",
    "for a in np.linspace(0.0, 1.0, 5):\n",
    "    print (a)\n",
    "    \n",
    "    h_mid = h2 * a + h1 * (1.0 - a)\n",
    "    im_mid = expand(h_mid)\n",
    "        \n",
    "    vector = im_mid.reshape(old_shape) * 255.0 # flatten\n",
    "    vector = vector.astype('uint8')    # convert to integers\n",
    "\n",
    "    image = Image.fromarray(vector)    # convert to image\n",
    "\n",
    "    b = BytesIO()\n",
    "    image.save(b, format='png')\n",
    "    disp.display(disp.Image(b.getvalue())) "
   ]
  },
  {
   "cell_type": "markdown",
   "metadata": {},
   "source": [
    "## Final notes\n",
    "\n",
    "### GPU processing\n",
    "\n",
    "We haven't optimized our code to run on the GPU, since we're all using our laptops anyway, but the advantage of using Theano is that the switch can be made very easily. Almost all of the work is done by theano under the hood: it simply compiles the computations we have defined for the GPU instead of the CPU. Still, some care must be taken to write code that runs well on the GPU. See http://deeplearning.net/software/theano/tutorial/using_gpu.html for more information."
   ]
  },
  {
   "cell_type": "markdown",
   "metadata": {
    "collapsed": true
   },
   "source": [
    "## References\n",
    "[1]: Assembled by Thomas Mensink, https://staff.fnwi.uva.nl/t.e.j.mensink/rijks/ <br/>\n",
    "[2]: The Humanae project: http://humanae.tumblr.com/ by Angélica Dass. Note that I don't have permission to use these images (I think 60x60 thumbnails count as fair use), so do ask before you publish any derived works."
   ]
  },
  {
   "cell_type": "code",
   "execution_count": null,
   "metadata": {
    "collapsed": true
   },
   "outputs": [],
   "source": []
  }
 ],
 "metadata": {
  "kernelspec": {
   "display_name": "Python 3",
   "language": "python",
   "name": "python3"
  },
  "language_info": {
   "codemirror_mode": {
    "name": "ipython",
    "version": 3
   },
   "file_extension": ".py",
   "mimetype": "text/x-python",
   "name": "python",
   "nbconvert_exporter": "python",
   "pygments_lexer": "ipython3",
   "version": "3.5.1"
  }
 },
 "nbformat": 4,
 "nbformat_minor": 0
}
